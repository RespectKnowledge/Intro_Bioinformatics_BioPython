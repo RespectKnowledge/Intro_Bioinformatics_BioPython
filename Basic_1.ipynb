{
  "nbformat": 4,
  "nbformat_minor": 0,
  "metadata": {
    "colab": {
      "name": "Basic_1.ipynb",
      "provenance": [],
      "collapsed_sections": []
    },
    "kernelspec": {
      "name": "python3",
      "display_name": "Python 3"
    },
    "language_info": {
      "name": "python"
    }
  },
  "cells": [
    {
      "cell_type": "code",
      "metadata": {
        "colab": {
          "base_uri": "https://localhost:8080/"
        },
        "id": "NrSy1m4LybA-",
        "outputId": "bc5236f4-ed23-426f-bee6-244d4f120a83"
      },
      "source": [
        "from google.colab import drive\n",
        "drive.mount('/content/drive')"
      ],
      "execution_count": 1,
      "outputs": [
        {
          "output_type": "stream",
          "name": "stdout",
          "text": [
            "Mounted at /content/drive\n"
          ]
        }
      ]
    },
    {
      "cell_type": "code",
      "metadata": {
        "colab": {
          "base_uri": "https://localhost:8080/"
        },
        "id": "iHq4sFocyskK",
        "outputId": "5b2f51f5-64f4-4d57-e116-437ba70d153c"
      },
      "source": [
        "cd /content/drive/MyDrive/"
      ],
      "execution_count": 2,
      "outputs": [
        {
          "output_type": "stream",
          "name": "stdout",
          "text": [
            "/content/drive/MyDrive\n"
          ]
        }
      ]
    },
    {
      "cell_type": "markdown",
      "metadata": {
        "id": "M9DelzRtyzUq"
      },
      "source": [
        "**2.1 Working with sequences**\n",
        "\n",
        "Biopython is a set of libraries to provide the ability to deal with “things” of interest to biologists working on the computer. In general this means that you will need to have at least some programming experience (in Python, of course!) or at least an interest in learning to program. Biopython’s job is to make your job easier as a programmer by supplying reusable libraries so that you can focus on answering your specific question of interest, instead of focusing on the internals of parsing a particular file format."
      ]
    },
    {
      "cell_type": "code",
      "metadata": {
        "colab": {
          "base_uri": "https://localhost:8080/"
        },
        "id": "PmOK1Pmuzfrr",
        "outputId": "0b4f9112-d2d0-46d3-9bc2-b1ea8de0fa9e"
      },
      "source": [
        "!pip install biopython"
      ],
      "execution_count": 5,
      "outputs": [
        {
          "output_type": "stream",
          "name": "stdout",
          "text": [
            "Collecting biopython\n",
            "  Downloading biopython-1.79-cp37-cp37m-manylinux_2_5_x86_64.manylinux1_x86_64.whl (2.3 MB)\n",
            "\u001b[K     |████████████████████████████████| 2.3 MB 32.1 MB/s \n",
            "\u001b[?25hRequirement already satisfied: numpy in /usr/local/lib/python3.7/dist-packages (from biopython) (1.19.5)\n",
            "Installing collected packages: biopython\n",
            "Successfully installed biopython-1.79\n"
          ]
        }
      ]
    },
    {
      "cell_type": "code",
      "metadata": {
        "id": "NIQtTitlyoB7"
      },
      "source": [
        "#Thus, we’ll start with a quick introduction to the Biopython mechanisms for dealing with sequences, the Seq object\n",
        "from Bio.Seq import Seq\n",
        "my_seq=Seq('ABCDEFGH')"
      ],
      "execution_count": 6,
      "outputs": []
    },
    {
      "cell_type": "code",
      "metadata": {
        "colab": {
          "base_uri": "https://localhost:8080/"
        },
        "id": "CbN73zTmzmdZ",
        "outputId": "4585c524-5bff-40dd-825f-fc0631b89d40"
      },
      "source": [
        "print(my_seq)"
      ],
      "execution_count": 7,
      "outputs": [
        {
          "output_type": "stream",
          "name": "stdout",
          "text": [
            "ABCDEFGH\n"
          ]
        }
      ]
    },
    {
      "cell_type": "code",
      "metadata": {
        "colab": {
          "base_uri": "https://localhost:8080/"
        },
        "id": "uZYsL_0ZzvQh",
        "outputId": "43e2adc6-842b-4da4-d758-ed1953e6197b"
      },
      "source": [
        "dir(my_seq)"
      ],
      "execution_count": 8,
      "outputs": [
        {
          "output_type": "execute_result",
          "data": {
            "text/plain": [
              "['__abstractmethods__',\n",
              " '__add__',\n",
              " '__bytes__',\n",
              " '__class__',\n",
              " '__contains__',\n",
              " '__delattr__',\n",
              " '__dict__',\n",
              " '__dir__',\n",
              " '__doc__',\n",
              " '__eq__',\n",
              " '__format__',\n",
              " '__ge__',\n",
              " '__getattribute__',\n",
              " '__getitem__',\n",
              " '__gt__',\n",
              " '__hash__',\n",
              " '__imul__',\n",
              " '__init__',\n",
              " '__init_subclass__',\n",
              " '__le__',\n",
              " '__len__',\n",
              " '__lt__',\n",
              " '__module__',\n",
              " '__mul__',\n",
              " '__ne__',\n",
              " '__new__',\n",
              " '__radd__',\n",
              " '__reduce__',\n",
              " '__reduce_ex__',\n",
              " '__repr__',\n",
              " '__rmul__',\n",
              " '__setattr__',\n",
              " '__sizeof__',\n",
              " '__slots__',\n",
              " '__str__',\n",
              " '__subclasshook__',\n",
              " '__weakref__',\n",
              " '_abc_impl',\n",
              " '_data',\n",
              " 'back_transcribe',\n",
              " 'complement',\n",
              " 'complement_rna',\n",
              " 'count',\n",
              " 'count_overlap',\n",
              " 'encode',\n",
              " 'endswith',\n",
              " 'find',\n",
              " 'index',\n",
              " 'join',\n",
              " 'lower',\n",
              " 'lstrip',\n",
              " 'replace',\n",
              " 'reverse_complement',\n",
              " 'reverse_complement_rna',\n",
              " 'rfind',\n",
              " 'rindex',\n",
              " 'rsplit',\n",
              " 'rstrip',\n",
              " 'split',\n",
              " 'startswith',\n",
              " 'strip',\n",
              " 'tomutable',\n",
              " 'transcribe',\n",
              " 'translate',\n",
              " 'ungap',\n",
              " 'upper']"
            ]
          },
          "metadata": {},
          "execution_count": 8
        }
      ]
    },
    {
      "cell_type": "code",
      "metadata": {
        "colab": {
          "base_uri": "https://localhost:8080/"
        },
        "id": "CrKQP_nVzucn",
        "outputId": "0a9b7801-2deb-4dc3-f365-5e9e078aa201"
      },
      "source": [
        "#The Seq object differs from the Python string in the methods it supports. You can’t do this with a plain string\n",
        "my_seq.complement()"
      ],
      "execution_count": 9,
      "outputs": [
        {
          "output_type": "execute_result",
          "data": {
            "text/plain": [
              "Seq('TVGHEFCD')"
            ]
          },
          "metadata": {},
          "execution_count": 9
        }
      ]
    },
    {
      "cell_type": "code",
      "metadata": {
        "colab": {
          "base_uri": "https://localhost:8080/"
        },
        "id": "iHpr3Jgvz-kB",
        "outputId": "4d51a973-6b8a-4826-90f1-9266b995c855"
      },
      "source": [
        "my_seq.reverse_complement()"
      ],
      "execution_count": 10,
      "outputs": [
        {
          "output_type": "execute_result",
          "data": {
            "text/plain": [
              "Seq('DCFEHGVT')"
            ]
          },
          "metadata": {},
          "execution_count": 10
        }
      ]
    },
    {
      "cell_type": "code",
      "metadata": {
        "colab": {
          "base_uri": "https://localhost:8080/"
        },
        "id": "I4V_-blv4C_m",
        "outputId": "3b9c890b-2e5c-492e-fa11-a60d431f7a06"
      },
      "source": [
        "# sequences act like a strings\n",
        "from Bio.Seq import Seq\n",
        "my_seq=Seq('GATCGFEG')\n",
        "for index,letter in enumerate(my_seq):\n",
        "  print(\"%i %s\" % (index,letter))"
      ],
      "execution_count": 11,
      "outputs": [
        {
          "output_type": "stream",
          "name": "stdout",
          "text": [
            "0 G\n",
            "1 A\n",
            "2 T\n",
            "3 C\n",
            "4 G\n",
            "5 F\n",
            "6 E\n",
            "7 G\n"
          ]
        }
      ]
    },
    {
      "cell_type": "code",
      "metadata": {
        "colab": {
          "base_uri": "https://localhost:8080/"
        },
        "id": "tdXJOtNa39qA",
        "outputId": "c71a6bd4-7472-4f7f-a296-672764d470ac"
      },
      "source": [
        "print(len(my_seq))"
      ],
      "execution_count": 12,
      "outputs": [
        {
          "output_type": "stream",
          "name": "stdout",
          "text": [
            "8\n"
          ]
        }
      ]
    },
    {
      "cell_type": "code",
      "metadata": {
        "colab": {
          "base_uri": "https://localhost:8080/"
        },
        "id": "urjO2zEn4k31",
        "outputId": "48b25276-93a5-4cba-ceec-28e166ebac17"
      },
      "source": [
        "#You can access elements of the sequence in the same way as for strings\n",
        "print(my_seq[0])\n",
        "print(my_seq[0:3])\n",
        "print(my_seq[::-1])\n",
        "print(my_seq[-1])\n",
        "print(my_seq[-2])"
      ],
      "execution_count": 17,
      "outputs": [
        {
          "output_type": "stream",
          "name": "stdout",
          "text": [
            "G\n",
            "GAT\n",
            "GEFGCTAG\n",
            "G\n",
            "E\n"
          ]
        }
      ]
    },
    {
      "cell_type": "code",
      "metadata": {
        "colab": {
          "base_uri": "https://localhost:8080/"
        },
        "id": "QFF0hcRf4_UG",
        "outputId": "727fe958-010c-42d4-de6f-52cfbb29f121"
      },
      "source": [
        "#The Seq object has a .count() method, just like a string. Note that this means that like a Python string, \n",
        "#this gives a non-overlapping count\n",
        "print(my_seq.count('G'))\n",
        "print(my_seq.count('A'))\n",
        "print(my_seq.count('T'))"
      ],
      "execution_count": 23,
      "outputs": [
        {
          "output_type": "stream",
          "name": "stdout",
          "text": [
            "3\n",
            "1\n",
            "1\n"
          ]
        }
      ]
    },
    {
      "cell_type": "code",
      "metadata": {
        "colab": {
          "base_uri": "https://localhost:8080/"
        },
        "id": "uAkuAlm35fAW",
        "outputId": "cb46ca0f-fda5-4d88-fb6b-7074e144fbb4"
      },
      "source": [
        "100 * float(my_seq.count(\"G\") + my_seq.count(\"C\")) / len(my_seq)"
      ],
      "execution_count": 24,
      "outputs": [
        {
          "output_type": "execute_result",
          "data": {
            "text/plain": [
              "50.0"
            ]
          },
          "metadata": {},
          "execution_count": 24
        }
      ]
    },
    {
      "cell_type": "code",
      "metadata": {
        "colab": {
          "base_uri": "https://localhost:8080/"
        },
        "id": "t1gtd5aH5n5F",
        "outputId": "8eb271ef-88cb-49e3-e201-c747730d300c"
      },
      "source": [
        "#While you could use the above snippet of code to calculate a GC%, \n",
        "#note that the Bio.SeqUtils module has several GC functions already built\n",
        "from Bio.Seq import Seq\n",
        "from Bio.SeqUtils import GC\n",
        "my_seq=Seq('GGGGGGGGGGGGGGGTCHHHHHTAGGGAAAAAA')\n",
        "GC(my_seq)"
      ],
      "execution_count": 25,
      "outputs": [
        {
          "output_type": "execute_result",
          "data": {
            "text/plain": [
              "57.57575757575758"
            ]
          },
          "metadata": {},
          "execution_count": 25
        }
      ]
    },
    {
      "cell_type": "code",
      "metadata": {
        "colab": {
          "base_uri": "https://localhost:8080/",
          "height": 35
        },
        "id": "XpU08KA66BZ9",
        "outputId": "562e9d1f-c85e-4b90-a295-7a5128dfebca"
      },
      "source": [
        "#Turning Seq objects into strings\n",
        "str(my_seq)"
      ],
      "execution_count": 27,
      "outputs": [
        {
          "output_type": "execute_result",
          "data": {
            "application/vnd.google.colaboratory.intrinsic+json": {
              "type": "string"
            },
            "text/plain": [
              "'GGGGGGGGGGGGGGGTCHHHHHTAGGGAAAAAA'"
            ]
          },
          "metadata": {},
          "execution_count": 27
        }
      ]
    },
    {
      "cell_type": "code",
      "metadata": {
        "colab": {
          "base_uri": "https://localhost:8080/"
        },
        "id": "9PEURLKA5kmE",
        "outputId": "8b275fc3-a63e-46bc-95a8-87d31a1a1c70"
      },
      "source": [
        "fasta_format_string = \">Name\\n%s\\n\" % my_seq\n",
        "print(fasta_format_string)"
      ],
      "execution_count": 29,
      "outputs": [
        {
          "output_type": "stream",
          "name": "stdout",
          "text": [
            ">Name\n",
            "GGGGGGGGGGGGGGGTCHHHHHTAGGGAAAAAA\n",
            "\n"
          ]
        }
      ]
    },
    {
      "cell_type": "code",
      "metadata": {
        "colab": {
          "base_uri": "https://localhost:8080/"
        },
        "id": "cdaesYku6wS8",
        "outputId": "96201bdd-4231-4471-c3b0-ad390cda40fc"
      },
      "source": [
        "# Concatenating or adding sequences\n",
        "from Bio.Seq import Seq\n",
        "protein_seq = Seq(\"EVRNAK\")\n",
        "dna_seq = Seq(\"ACGT\")\n",
        "protein_seq + dna_seq"
      ],
      "execution_count": 30,
      "outputs": [
        {
          "output_type": "execute_result",
          "data": {
            "text/plain": [
              "Seq('EVRNAKACGT')"
            ]
          },
          "metadata": {},
          "execution_count": 30
        }
      ]
    },
    {
      "cell_type": "code",
      "metadata": {
        "colab": {
          "base_uri": "https://localhost:8080/"
        },
        "id": "YblY8bop69rc",
        "outputId": "90baa3a1-a900-4972-dc8d-6244656ed063"
      },
      "source": [
        "from Bio.Seq import Seq\n",
        "list_of_seqs = [Seq(\"ACGTF\"), Seq(\"AACC\"), Seq(\"GGTTPP\")]\n",
        "concatenated = Seq(\"\")\n",
        "for s in list_of_seqs:\n",
        "  print(s)\n",
        "  concatenated += s"
      ],
      "execution_count": 36,
      "outputs": [
        {
          "output_type": "stream",
          "name": "stdout",
          "text": [
            "ACGTF\n",
            "AACC\n",
            "GGTTPP\n"
          ]
        }
      ]
    },
    {
      "cell_type": "code",
      "metadata": {
        "colab": {
          "base_uri": "https://localhost:8080/"
        },
        "id": "HmbJZHFV7Dgc",
        "outputId": "c4d9c34a-5cff-4e84-b1b1-51b857756990"
      },
      "source": [
        "concatenated"
      ],
      "execution_count": 37,
      "outputs": [
        {
          "output_type": "execute_result",
          "data": {
            "text/plain": [
              "Seq('ACGTFAACCGGTTPP')"
            ]
          },
          "metadata": {},
          "execution_count": 37
        }
      ]
    },
    {
      "cell_type": "code",
      "metadata": {
        "colab": {
          "base_uri": "https://localhost:8080/"
        },
        "id": "P5VBDBgL7T7T",
        "outputId": "50ff201e-c2e2-4dec-d3bb-e20aa1a148b1"
      },
      "source": [
        "from Bio.Seq import Seq\n",
        "contigs = [Seq(\"ATG\"), Seq(\"ATCCCG\"), Seq(\"TTGCA\")]\n",
        "spacer = Seq(\"P\"*10)\n",
        "spacer.join(contigs)"
      ],
      "execution_count": 39,
      "outputs": [
        {
          "output_type": "execute_result",
          "data": {
            "text/plain": [
              "Seq('ATGPPPPPPPPPPATCCCGPPPPPPPPPPTTGCA')"
            ]
          },
          "metadata": {},
          "execution_count": 39
        }
      ]
    },
    {
      "cell_type": "code",
      "metadata": {
        "colab": {
          "base_uri": "https://localhost:8080/"
        },
        "id": "wVSgusoj7hET",
        "outputId": "1218c2b3-6ba5-4479-fc53-c94ab9dc81e0"
      },
      "source": [
        "#Python strings have very useful upper and lower methods for changing the case. \n",
        "#For example,\n",
        "from Bio.Seq import Seq\n",
        "dna_seq = Seq(\"acgtACGT\")\n",
        "print(dna_seq)\n",
        "print(dna_seq.upper())\n",
        "print(dna_seq.lower())"
      ],
      "execution_count": 40,
      "outputs": [
        {
          "output_type": "stream",
          "name": "stdout",
          "text": [
            "acgtACGT\n",
            "ACGTACGT\n",
            "acgtacgt\n"
          ]
        }
      ]
    },
    {
      "cell_type": "code",
      "metadata": {
        "colab": {
          "base_uri": "https://localhost:8080/"
        },
        "id": "jbg0HKa97zYa",
        "outputId": "cef98ac2-cd6b-46b3-f542-1dee5434f3fb"
      },
      "source": [
        "# check letter in sequence\n",
        "#These are useful for doing case insensitive matching:\n",
        "\"GTAC\" in dna_seq\n"
      ],
      "execution_count": 41,
      "outputs": [
        {
          "output_type": "execute_result",
          "data": {
            "text/plain": [
              "False"
            ]
          },
          "metadata": {},
          "execution_count": 41
        }
      ]
    },
    {
      "cell_type": "code",
      "metadata": {
        "colab": {
          "base_uri": "https://localhost:8080/"
        },
        "id": "ywAQFsIH8Biq",
        "outputId": "e9197afd-80b8-4e42-9851-2a50b2aa0966"
      },
      "source": [
        "\"GTAC\" in dna_seq.upper()"
      ],
      "execution_count": 44,
      "outputs": [
        {
          "output_type": "execute_result",
          "data": {
            "text/plain": [
              "True"
            ]
          },
          "metadata": {},
          "execution_count": 44
        }
      ]
    },
    {
      "cell_type": "code",
      "metadata": {
        "colab": {
          "base_uri": "https://localhost:8080/"
        },
        "id": "HTbrHKSQ72aa",
        "outputId": "6a8c6def-80c5-4dc8-e3e0-9bc7f459cc19"
      },
      "source": [
        "\"GTACB\" in dna_seq.upper()"
      ],
      "execution_count": 45,
      "outputs": [
        {
          "output_type": "execute_result",
          "data": {
            "text/plain": [
              "False"
            ]
          },
          "metadata": {},
          "execution_count": 45
        }
      ]
    },
    {
      "cell_type": "markdown",
      "metadata": {
        "id": "KX5swrj88OUT"
      },
      "source": [
        "**Nucleotide sequences and (reverse) complements**\n"
      ]
    },
    {
      "cell_type": "code",
      "metadata": {
        "colab": {
          "base_uri": "https://localhost:8080/"
        },
        "id": "7qbtRUL58ASj",
        "outputId": "b3f7d4c3-49ab-4d8c-8d0c-9fb2cf4ff86b"
      },
      "source": [
        "#For nucleotide sequences, you can easily obtain the complement or reverse complement of a Seq object \n",
        "#using its built-in methods\n",
        "from Bio.Seq import Seq\n",
        "my_seq = Seq(\"GATCGATGGGCCTATATAGGATCGAAAATCGC\")\n",
        "print('Sequence:', my_seq)\n",
        "Seq('GATCGATGGGCCTATATAGGATCGAAAATCGC')\n",
        "print('Complement:', my_seq.complement())\n",
        "print('Reverse Complement:', my_seq.reverse_complement())"
      ],
      "execution_count": 48,
      "outputs": [
        {
          "output_type": "stream",
          "name": "stdout",
          "text": [
            "Sequence: GATCGATGGGCCTATATAGGATCGAAAATCGC\n",
            "Complement: CTAGCTACCCGGATATATCCTAGCTTTTAGCG\n",
            "Reverse Complement: GCGATTTTCGATCCTATATAGGCCCATCGATC\n"
          ]
        }
      ]
    },
    {
      "cell_type": "code",
      "metadata": {
        "colab": {
          "base_uri": "https://localhost:8080/"
        },
        "id": "zPgSchJi81bb",
        "outputId": "3c274514-2dd4-4ffd-b0dc-0b2a608abd99"
      },
      "source": [
        "print('Reverse Sequence:',my_seq[::-1])"
      ],
      "execution_count": 50,
      "outputs": [
        {
          "output_type": "stream",
          "name": "stdout",
          "text": [
            "Reverse Sequence: CGCTAAAAGCTAGGATATATCCGGGTAGCTAG\n"
          ]
        }
      ]
    },
    {
      "cell_type": "markdown",
      "metadata": {
        "id": "6V7afJFu9YQi"
      },
      "source": [
        "**Transcription**\n",
        "\n",
        "Before talking about transcription, I want to try to clarify the strand issue. Consider the following (made up) stretch of double stranded DNA which encodes a short peptide:\n",
        "\n",
        " \n",
        " \tDNA coding strand (aka Crick strand, strand +1)\t \n",
        "5’\tATGGCCATTGTAATGGGCCGCTGAAAGGGTGCCCGATAG\t3’\n",
        " \t|||||||||||||||||||||||||||||||||||||||\t \n",
        "3’\tTACCGGTAACATTACCCGGCGACTTTCCCACGGGCTATC\t5’\n",
        " \tDNA template strand (aka Watson strand, strand −1)\t \n",
        " \n",
        " \t|\t \n",
        " \tTranscription\t \n",
        " \t↓\t \n",
        " \n",
        "5’\tAUGGCCAUUGUAAUGGGCCGCUGAAAGGGUGCCCGAUAG\t3’\n",
        " \tSingle stranded messenger RNA\t "
      ]
    },
    {
      "cell_type": "code",
      "metadata": {
        "colab": {
          "base_uri": "https://localhost:8080/"
        },
        "id": "qeq39aKI9BBa",
        "outputId": "6f45542b-a9bd-4320-d37a-b740e1b4b689"
      },
      "source": [
        "#Now let’s actually get down to doing a transcription in Biopython. \n",
        "#First, let’s create Seq objects for the coding and template DNA strands:\n",
        "\n",
        "from Bio.Seq import Seq\n",
        "coding_dna = Seq(\"ATGGCCATTGTAATGGGCCGCTGAAAGGGTGCCCGATAG\")\n",
        "print('DNA sequence:',coding_dna)\n",
        "template_dna = coding_dna.reverse_complement()\n",
        "print('Reverse Compelment:',template_dna)"
      ],
      "execution_count": 52,
      "outputs": [
        {
          "output_type": "stream",
          "name": "stdout",
          "text": [
            "DNA sequence: ATGGCCATTGTAATGGGCCGCTGAAAGGGTGCCCGATAG\n",
            "Reverse Compelment: CTATCGGGCACCCTTTCAGCGGCCCATTACAATGGCCAT\n"
          ]
        }
      ]
    },
    {
      "cell_type": "code",
      "metadata": {
        "colab": {
          "base_uri": "https://localhost:8080/"
        },
        "id": "-FuKdKO3959o",
        "outputId": "62c7fa4e-de00-4a59-a28e-d545cb9c0053"
      },
      "source": [
        "print('DNA:',coding_dna)\n",
        "messenger_rna = coding_dna.transcribe()\n",
        "print('mRNA:',messenger_rna)"
      ],
      "execution_count": 53,
      "outputs": [
        {
          "output_type": "stream",
          "name": "stdout",
          "text": [
            "DNA: ATGGCCATTGTAATGGGCCGCTGAAAGGGTGCCCGATAG\n",
            "mRNA: AUGGCCAUUGUAAUGGGCCGCUGAAAGGGUGCCCGAUAG\n"
          ]
        }
      ]
    },
    {
      "cell_type": "code",
      "metadata": {
        "colab": {
          "base_uri": "https://localhost:8080/"
        },
        "id": "KDzEME2K-Rsq",
        "outputId": "0eb9d03d-b1f0-459b-8c0b-5206fc05ed1b"
      },
      "source": [
        "print('mRNA1:',messenger_rna)\n",
        "print('mRNA2:',template_dna.reverse_complement().transcribe())\n",
        "print('mRNA3:',coding_dna.reverse_complement().reverse_complement().transcribe())"
      ],
      "execution_count": 58,
      "outputs": [
        {
          "output_type": "stream",
          "name": "stdout",
          "text": [
            "mRNA1: AUGGCCAUUGUAAUGGGCCGCUGAAAGGGUGCCCGAUAG\n",
            "mRNA2: AUGGCCAUUGUAAUGGGCCGCUGAAAGGGUGCCCGAUAG\n",
            "mRNA3: AUGGCCAUUGUAAUGGGCCGCUGAAAGGGUGCCCGAUAG\n"
          ]
        }
      ]
    },
    {
      "cell_type": "code",
      "metadata": {
        "colab": {
          "base_uri": "https://localhost:8080/"
        },
        "id": "dQH0j04s-tPi",
        "outputId": "9a4bdb7d-82b6-4b69-dbb4-2098197ea7ba"
      },
      "source": [
        "#The Seq object also includes a back-transcription method for going from the mRNA to the coding strand of the DNA. \n",
        "#Again, this is a simple U → T substitution:\n",
        "from Bio.Seq import Seq\n",
        "messenger_rna = Seq(\"AUGGCCAUUGUAAUGGGCCGCUGAAAGGGUGCCCGAUAG\")\n",
        "print('mRNA:',messenger_rna)\n",
        "print('back to DNA:',messenger_rna.back_transcribe())\n",
        "print('Original DNA:',coding_dna)"
      ],
      "execution_count": 61,
      "outputs": [
        {
          "output_type": "stream",
          "name": "stdout",
          "text": [
            "mRNA: AUGGCCAUUGUAAUGGGCCGCUGAAAGGGUGCCCGAUAG\n",
            "back to DNA: ATGGCCATTGTAATGGGCCGCTGAAAGGGTGCCCGATAG\n",
            "Original DNA: ATGGCCATTGTAATGGGCCGCTGAAAGGGTGCCCGATAG\n"
          ]
        }
      ]
    },
    {
      "cell_type": "markdown",
      "metadata": {
        "id": "UINFTr-s_cyJ"
      },
      "source": [
        "**Translation**\n",
        "\n",
        "Sticking with the same example discussed in the transcription section above, now let’s translate this mRNA into the corresponding protein sequence - again taking advantage of one of the Seq object’s biological methods:"
      ]
    },
    {
      "cell_type": "code",
      "metadata": {
        "colab": {
          "base_uri": "https://localhost:8080/"
        },
        "id": "e78dmcnG_tdo",
        "outputId": "49c4730d-6e73-441b-cacb-db0092624400"
      },
      "source": [
        "dir(messenger_rna) # check different methods associated with sequences\n",
        "#epscially['back_transcribe',\n",
        "# 'complement','complement_rna','count','count_overlap','encode','endswith','find','index','join',\n",
        "# 'lower','lstrip','replace','reverse_complement','reverse_complement_rna','rfind','rindex','rsplit','rstrip','split',\n",
        "# 'startswith','strip','tomutable','transcribe','translate','ungap','upper'']"
      ],
      "execution_count": 64,
      "outputs": [
        {
          "output_type": "execute_result",
          "data": {
            "text/plain": [
              "['__abstractmethods__',\n",
              " '__add__',\n",
              " '__bytes__',\n",
              " '__class__',\n",
              " '__contains__',\n",
              " '__delattr__',\n",
              " '__dict__',\n",
              " '__dir__',\n",
              " '__doc__',\n",
              " '__eq__',\n",
              " '__format__',\n",
              " '__ge__',\n",
              " '__getattribute__',\n",
              " '__getitem__',\n",
              " '__gt__',\n",
              " '__hash__',\n",
              " '__imul__',\n",
              " '__init__',\n",
              " '__init_subclass__',\n",
              " '__le__',\n",
              " '__len__',\n",
              " '__lt__',\n",
              " '__module__',\n",
              " '__mul__',\n",
              " '__ne__',\n",
              " '__new__',\n",
              " '__radd__',\n",
              " '__reduce__',\n",
              " '__reduce_ex__',\n",
              " '__repr__',\n",
              " '__rmul__',\n",
              " '__setattr__',\n",
              " '__sizeof__',\n",
              " '__slots__',\n",
              " '__str__',\n",
              " '__subclasshook__',\n",
              " '__weakref__',\n",
              " '_abc_impl',\n",
              " '_data',\n",
              " 'back_transcribe',\n",
              " 'complement',\n",
              " 'complement_rna',\n",
              " 'count',\n",
              " 'count_overlap',\n",
              " 'encode',\n",
              " 'endswith',\n",
              " 'find',\n",
              " 'index',\n",
              " 'join',\n",
              " 'lower',\n",
              " 'lstrip',\n",
              " 'replace',\n",
              " 'reverse_complement',\n",
              " 'reverse_complement_rna',\n",
              " 'rfind',\n",
              " 'rindex',\n",
              " 'rsplit',\n",
              " 'rstrip',\n",
              " 'split',\n",
              " 'startswith',\n",
              " 'strip',\n",
              " 'tomutable',\n",
              " 'transcribe',\n",
              " 'translate',\n",
              " 'ungap',\n",
              " 'upper']"
            ]
          },
          "metadata": {},
          "execution_count": 64
        }
      ]
    },
    {
      "cell_type": "code",
      "metadata": {
        "colab": {
          "base_uri": "https://localhost:8080/"
        },
        "id": "0BiTEmBe_hGZ",
        "outputId": "95609fd2-adc9-4a50-b47e-57bb0b308060"
      },
      "source": [
        "from Bio.Seq import Seq\n",
        "messenger_rna = Seq(\"AUGGCCAUUGUAAUGGGCCGCUGAAAGGGUGCCCGAUAG\")\n",
        "print(messenger_rna)\n",
        "print(messenger_rna.translate())"
      ],
      "execution_count": 62,
      "outputs": [
        {
          "output_type": "stream",
          "name": "stdout",
          "text": [
            "AUGGCCAUUGUAAUGGGCCGCUGAAAGGGUGCCCGAUAG\n",
            "MAIVMGR*KGAR*\n"
          ]
        }
      ]
    },
    {
      "cell_type": "code",
      "metadata": {
        "colab": {
          "base_uri": "https://localhost:8080/"
        },
        "id": "itlK3OwXAlx3",
        "outputId": "e38ded51-bd3e-4661-856c-4e6276e24af7"
      },
      "source": [
        "# Working directly with strings\n",
        "from Bio.Seq import reverse_complement, transcribe, back_transcribe, translate\n",
        "my_string = \"GCTGTTATGGGTCGTTGGAAGGGTGGTCGTGCTGCTGGTTAG\"\n",
        "print(reverse_complement(my_string))\n",
        "print(transcribe(my_string))\n",
        "print(back_transcribe(my_string))\n",
        "print(translate(my_string))\n"
      ],
      "execution_count": 66,
      "outputs": [
        {
          "output_type": "stream",
          "name": "stdout",
          "text": [
            "CTAACCAGCAGCACGACCACCCTTCCAACGACCCATAACAGC\n",
            "GCUGUUAUGGGUCGUUGGAAGGGUGGUCGUGCUGCUGGUUAG\n",
            "GCTGTTATGGGTCGTTGGAAGGGTGGTCGTGCTGCTGGTTAG\n",
            "AVMGRWKGGRAAG*\n"
          ]
        }
      ]
    },
    {
      "cell_type": "code",
      "metadata": {
        "id": "DgQ5fQBhA5Ov"
      },
      "source": [
        ""
      ],
      "execution_count": null,
      "outputs": []
    }
  ]
}