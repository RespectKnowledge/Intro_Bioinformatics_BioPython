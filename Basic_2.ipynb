{
  "nbformat": 4,
  "nbformat_minor": 0,
  "metadata": {
    "colab": {
      "name": "Basic_2.ipynb",
      "provenance": [],
      "collapsed_sections": []
    },
    "kernelspec": {
      "name": "python3",
      "display_name": "Python 3"
    },
    "language_info": {
      "name": "python"
    }
  },
  "cells": [
    {
      "cell_type": "code",
      "metadata": {
        "colab": {
          "base_uri": "https://localhost:8080/"
        },
        "id": "dR-fCP-9BM7_",
        "outputId": "c4b3fe30-ef86-4cb5-a7ab-0815370fb79b"
      },
      "source": [
        "from google.colab import drive\n",
        "drive.mount('/content/drive')"
      ],
      "execution_count": 17,
      "outputs": [
        {
          "output_type": "stream",
          "name": "stdout",
          "text": [
            "Mounted at /content/drive\n"
          ]
        }
      ]
    },
    {
      "cell_type": "code",
      "metadata": {
        "colab": {
          "base_uri": "https://localhost:8080/"
        },
        "id": "qlwbtgcJ0vLz",
        "outputId": "9006eae0-1b9c-47c5-d12e-1ccccd2595ab"
      },
      "source": [
        "cd /content/drive/MyDrive/"
      ],
      "execution_count": 18,
      "outputs": [
        {
          "output_type": "stream",
          "name": "stdout",
          "text": [
            "/content/drive/MyDrive\n"
          ]
        }
      ]
    },
    {
      "cell_type": "markdown",
      "metadata": {
        "id": "k1IZiWGYyE6i"
      },
      "source": [
        "1.Sequence annotation objects\n",
        "\n",
        "1.1The SeqRecord object\n",
        "\n",
        "1.2. Creating a SeqRecord\n",
        "\n",
        "1.3.SeqRecord objects from FASTA files\n",
        "\n",
        "1.4.SeqRecord objects from GenBank files\n",
        "\n",
        "2.Feature, location and position objects\n",
        "\n",
        "2.1 SeqFeature objects\n",
        "\n",
        "2.2 Positions and locations\n",
        "\n",
        "3. Comparison"
      ]
    },
    {
      "cell_type": "code",
      "metadata": {
        "id": "naHyZd4VBV_t"
      },
      "source": [
        "#To create a SeqRecord at a minimum you just need a Seq object:\n",
        "\n",
        ">>> from Bio.Seq import Seq\n",
        ">>> simple_seq = Seq(\"GATC\")\n",
        ">>> from Bio.SeqRecord import SeqRecord\n",
        ">>> simple_seq_r = SeqRecord(simple_seq)\n"
      ],
      "execution_count": null,
      "outputs": []
    },
    {
      "cell_type": "code",
      "metadata": {
        "colab": {
          "base_uri": "https://localhost:8080/"
        },
        "id": "cUVOXOycycKD",
        "outputId": "7f3b2a6c-1b58-4f6b-a5d2-3c7432437c84"
      },
      "source": [
        "!pip install biopython"
      ],
      "execution_count": 2,
      "outputs": [
        {
          "output_type": "stream",
          "name": "stdout",
          "text": [
            "Collecting biopython\n",
            "  Downloading biopython-1.79-cp37-cp37m-manylinux_2_5_x86_64.manylinux1_x86_64.whl (2.3 MB)\n",
            "\u001b[?25l\r\u001b[K     |▏                               | 10 kB 28.5 MB/s eta 0:00:01\r\u001b[K     |▎                               | 20 kB 32.2 MB/s eta 0:00:01\r\u001b[K     |▍                               | 30 kB 35.4 MB/s eta 0:00:01\r\u001b[K     |▋                               | 40 kB 37.3 MB/s eta 0:00:01\r\u001b[K     |▊                               | 51 kB 38.7 MB/s eta 0:00:01\r\u001b[K     |▉                               | 61 kB 37.2 MB/s eta 0:00:01\r\u001b[K     |█                               | 71 kB 32.5 MB/s eta 0:00:01\r\u001b[K     |█▏                              | 81 kB 32.2 MB/s eta 0:00:01\r\u001b[K     |█▎                              | 92 kB 34.4 MB/s eta 0:00:01\r\u001b[K     |█▍                              | 102 kB 34.7 MB/s eta 0:00:01\r\u001b[K     |█▋                              | 112 kB 34.7 MB/s eta 0:00:01\r\u001b[K     |█▊                              | 122 kB 34.7 MB/s eta 0:00:01\r\u001b[K     |█▉                              | 133 kB 34.7 MB/s eta 0:00:01\r\u001b[K     |██                              | 143 kB 34.7 MB/s eta 0:00:01\r\u001b[K     |██▏                             | 153 kB 34.7 MB/s eta 0:00:01\r\u001b[K     |██▎                             | 163 kB 34.7 MB/s eta 0:00:01\r\u001b[K     |██▍                             | 174 kB 34.7 MB/s eta 0:00:01\r\u001b[K     |██▋                             | 184 kB 34.7 MB/s eta 0:00:01\r\u001b[K     |██▊                             | 194 kB 34.7 MB/s eta 0:00:01\r\u001b[K     |██▉                             | 204 kB 34.7 MB/s eta 0:00:01\r\u001b[K     |███                             | 215 kB 34.7 MB/s eta 0:00:01\r\u001b[K     |███▏                            | 225 kB 34.7 MB/s eta 0:00:01\r\u001b[K     |███▎                            | 235 kB 34.7 MB/s eta 0:00:01\r\u001b[K     |███▌                            | 245 kB 34.7 MB/s eta 0:00:01\r\u001b[K     |███▋                            | 256 kB 34.7 MB/s eta 0:00:01\r\u001b[K     |███▊                            | 266 kB 34.7 MB/s eta 0:00:01\r\u001b[K     |███▉                            | 276 kB 34.7 MB/s eta 0:00:01\r\u001b[K     |████                            | 286 kB 34.7 MB/s eta 0:00:01\r\u001b[K     |████▏                           | 296 kB 34.7 MB/s eta 0:00:01\r\u001b[K     |████▎                           | 307 kB 34.7 MB/s eta 0:00:01\r\u001b[K     |████▌                           | 317 kB 34.7 MB/s eta 0:00:01\r\u001b[K     |████▋                           | 327 kB 34.7 MB/s eta 0:00:01\r\u001b[K     |████▊                           | 337 kB 34.7 MB/s eta 0:00:01\r\u001b[K     |████▉                           | 348 kB 34.7 MB/s eta 0:00:01\r\u001b[K     |█████                           | 358 kB 34.7 MB/s eta 0:00:01\r\u001b[K     |█████▏                          | 368 kB 34.7 MB/s eta 0:00:01\r\u001b[K     |█████▎                          | 378 kB 34.7 MB/s eta 0:00:01\r\u001b[K     |█████▌                          | 389 kB 34.7 MB/s eta 0:00:01\r\u001b[K     |█████▋                          | 399 kB 34.7 MB/s eta 0:00:01\r\u001b[K     |█████▊                          | 409 kB 34.7 MB/s eta 0:00:01\r\u001b[K     |██████                          | 419 kB 34.7 MB/s eta 0:00:01\r\u001b[K     |██████                          | 430 kB 34.7 MB/s eta 0:00:01\r\u001b[K     |██████▏                         | 440 kB 34.7 MB/s eta 0:00:01\r\u001b[K     |██████▎                         | 450 kB 34.7 MB/s eta 0:00:01\r\u001b[K     |██████▌                         | 460 kB 34.7 MB/s eta 0:00:01\r\u001b[K     |██████▋                         | 471 kB 34.7 MB/s eta 0:00:01\r\u001b[K     |██████▊                         | 481 kB 34.7 MB/s eta 0:00:01\r\u001b[K     |███████                         | 491 kB 34.7 MB/s eta 0:00:01\r\u001b[K     |███████                         | 501 kB 34.7 MB/s eta 0:00:01\r\u001b[K     |███████▏                        | 512 kB 34.7 MB/s eta 0:00:01\r\u001b[K     |███████▎                        | 522 kB 34.7 MB/s eta 0:00:01\r\u001b[K     |███████▌                        | 532 kB 34.7 MB/s eta 0:00:01\r\u001b[K     |███████▋                        | 542 kB 34.7 MB/s eta 0:00:01\r\u001b[K     |███████▊                        | 552 kB 34.7 MB/s eta 0:00:01\r\u001b[K     |████████                        | 563 kB 34.7 MB/s eta 0:00:01\r\u001b[K     |████████                        | 573 kB 34.7 MB/s eta 0:00:01\r\u001b[K     |████████▏                       | 583 kB 34.7 MB/s eta 0:00:01\r\u001b[K     |████████▍                       | 593 kB 34.7 MB/s eta 0:00:01\r\u001b[K     |████████▌                       | 604 kB 34.7 MB/s eta 0:00:01\r\u001b[K     |████████▋                       | 614 kB 34.7 MB/s eta 0:00:01\r\u001b[K     |████████▊                       | 624 kB 34.7 MB/s eta 0:00:01\r\u001b[K     |█████████                       | 634 kB 34.7 MB/s eta 0:00:01\r\u001b[K     |█████████                       | 645 kB 34.7 MB/s eta 0:00:01\r\u001b[K     |█████████▏                      | 655 kB 34.7 MB/s eta 0:00:01\r\u001b[K     |█████████▍                      | 665 kB 34.7 MB/s eta 0:00:01\r\u001b[K     |█████████▌                      | 675 kB 34.7 MB/s eta 0:00:01\r\u001b[K     |█████████▋                      | 686 kB 34.7 MB/s eta 0:00:01\r\u001b[K     |█████████▊                      | 696 kB 34.7 MB/s eta 0:00:01\r\u001b[K     |██████████                      | 706 kB 34.7 MB/s eta 0:00:01\r\u001b[K     |██████████                      | 716 kB 34.7 MB/s eta 0:00:01\r\u001b[K     |██████████▏                     | 727 kB 34.7 MB/s eta 0:00:01\r\u001b[K     |██████████▍                     | 737 kB 34.7 MB/s eta 0:00:01\r\u001b[K     |██████████▌                     | 747 kB 34.7 MB/s eta 0:00:01\r\u001b[K     |██████████▋                     | 757 kB 34.7 MB/s eta 0:00:01\r\u001b[K     |██████████▉                     | 768 kB 34.7 MB/s eta 0:00:01\r\u001b[K     |███████████                     | 778 kB 34.7 MB/s eta 0:00:01\r\u001b[K     |███████████                     | 788 kB 34.7 MB/s eta 0:00:01\r\u001b[K     |███████████▏                    | 798 kB 34.7 MB/s eta 0:00:01\r\u001b[K     |███████████▍                    | 808 kB 34.7 MB/s eta 0:00:01\r\u001b[K     |███████████▌                    | 819 kB 34.7 MB/s eta 0:00:01\r\u001b[K     |███████████▋                    | 829 kB 34.7 MB/s eta 0:00:01\r\u001b[K     |███████████▉                    | 839 kB 34.7 MB/s eta 0:00:01\r\u001b[K     |████████████                    | 849 kB 34.7 MB/s eta 0:00:01\r\u001b[K     |████████████                    | 860 kB 34.7 MB/s eta 0:00:01\r\u001b[K     |████████████▏                   | 870 kB 34.7 MB/s eta 0:00:01\r\u001b[K     |████████████▍                   | 880 kB 34.7 MB/s eta 0:00:01\r\u001b[K     |████████████▌                   | 890 kB 34.7 MB/s eta 0:00:01\r\u001b[K     |████████████▋                   | 901 kB 34.7 MB/s eta 0:00:01\r\u001b[K     |████████████▉                   | 911 kB 34.7 MB/s eta 0:00:01\r\u001b[K     |█████████████                   | 921 kB 34.7 MB/s eta 0:00:01\r\u001b[K     |█████████████                   | 931 kB 34.7 MB/s eta 0:00:01\r\u001b[K     |█████████████▎                  | 942 kB 34.7 MB/s eta 0:00:01\r\u001b[K     |█████████████▍                  | 952 kB 34.7 MB/s eta 0:00:01\r\u001b[K     |█████████████▌                  | 962 kB 34.7 MB/s eta 0:00:01\r\u001b[K     |█████████████▋                  | 972 kB 34.7 MB/s eta 0:00:01\r\u001b[K     |█████████████▉                  | 983 kB 34.7 MB/s eta 0:00:01\r\u001b[K     |██████████████                  | 993 kB 34.7 MB/s eta 0:00:01\r\u001b[K     |██████████████                  | 1.0 MB 34.7 MB/s eta 0:00:01\r\u001b[K     |██████████████▎                 | 1.0 MB 34.7 MB/s eta 0:00:01\r\u001b[K     |██████████████▍                 | 1.0 MB 34.7 MB/s eta 0:00:01\r\u001b[K     |██████████████▌                 | 1.0 MB 34.7 MB/s eta 0:00:01\r\u001b[K     |██████████████▋                 | 1.0 MB 34.7 MB/s eta 0:00:01\r\u001b[K     |██████████████▉                 | 1.1 MB 34.7 MB/s eta 0:00:01\r\u001b[K     |███████████████                 | 1.1 MB 34.7 MB/s eta 0:00:01\r\u001b[K     |███████████████                 | 1.1 MB 34.7 MB/s eta 0:00:01\r\u001b[K     |███████████████▎                | 1.1 MB 34.7 MB/s eta 0:00:01\r\u001b[K     |███████████████▍                | 1.1 MB 34.7 MB/s eta 0:00:01\r\u001b[K     |███████████████▌                | 1.1 MB 34.7 MB/s eta 0:00:01\r\u001b[K     |███████████████▊                | 1.1 MB 34.7 MB/s eta 0:00:01\r\u001b[K     |███████████████▉                | 1.1 MB 34.7 MB/s eta 0:00:01\r\u001b[K     |████████████████                | 1.1 MB 34.7 MB/s eta 0:00:01\r\u001b[K     |████████████████                | 1.1 MB 34.7 MB/s eta 0:00:01\r\u001b[K     |████████████████▎               | 1.2 MB 34.7 MB/s eta 0:00:01\r\u001b[K     |████████████████▍               | 1.2 MB 34.7 MB/s eta 0:00:01\r\u001b[K     |████████████████▌               | 1.2 MB 34.7 MB/s eta 0:00:01\r\u001b[K     |████████████████▊               | 1.2 MB 34.7 MB/s eta 0:00:01\r\u001b[K     |████████████████▉               | 1.2 MB 34.7 MB/s eta 0:00:01\r\u001b[K     |█████████████████               | 1.2 MB 34.7 MB/s eta 0:00:01\r\u001b[K     |█████████████████               | 1.2 MB 34.7 MB/s eta 0:00:01\r\u001b[K     |█████████████████▎              | 1.2 MB 34.7 MB/s eta 0:00:01\r\u001b[K     |█████████████████▍              | 1.2 MB 34.7 MB/s eta 0:00:01\r\u001b[K     |█████████████████▌              | 1.2 MB 34.7 MB/s eta 0:00:01\r\u001b[K     |█████████████████▊              | 1.3 MB 34.7 MB/s eta 0:00:01\r\u001b[K     |█████████████████▉              | 1.3 MB 34.7 MB/s eta 0:00:01\r\u001b[K     |██████████████████              | 1.3 MB 34.7 MB/s eta 0:00:01\r\u001b[K     |██████████████████▏             | 1.3 MB 34.7 MB/s eta 0:00:01\r\u001b[K     |██████████████████▎             | 1.3 MB 34.7 MB/s eta 0:00:01\r\u001b[K     |██████████████████▍             | 1.3 MB 34.7 MB/s eta 0:00:01\r\u001b[K     |██████████████████▌             | 1.3 MB 34.7 MB/s eta 0:00:01\r\u001b[K     |██████████████████▊             | 1.3 MB 34.7 MB/s eta 0:00:01\r\u001b[K     |██████████████████▉             | 1.3 MB 34.7 MB/s eta 0:00:01\r\u001b[K     |███████████████████             | 1.4 MB 34.7 MB/s eta 0:00:01\r\u001b[K     |███████████████████▏            | 1.4 MB 34.7 MB/s eta 0:00:01\r\u001b[K     |███████████████████▎            | 1.4 MB 34.7 MB/s eta 0:00:01\r\u001b[K     |███████████████████▍            | 1.4 MB 34.7 MB/s eta 0:00:01\r\u001b[K     |███████████████████▌            | 1.4 MB 34.7 MB/s eta 0:00:01\r\u001b[K     |███████████████████▊            | 1.4 MB 34.7 MB/s eta 0:00:01\r\u001b[K     |███████████████████▉            | 1.4 MB 34.7 MB/s eta 0:00:01\r\u001b[K     |████████████████████            | 1.4 MB 34.7 MB/s eta 0:00:01\r\u001b[K     |████████████████████▏           | 1.4 MB 34.7 MB/s eta 0:00:01\r\u001b[K     |████████████████████▎           | 1.4 MB 34.7 MB/s eta 0:00:01\r\u001b[K     |████████████████████▍           | 1.5 MB 34.7 MB/s eta 0:00:01\r\u001b[K     |████████████████████▋           | 1.5 MB 34.7 MB/s eta 0:00:01\r\u001b[K     |████████████████████▊           | 1.5 MB 34.7 MB/s eta 0:00:01\r\u001b[K     |████████████████████▉           | 1.5 MB 34.7 MB/s eta 0:00:01\r\u001b[K     |█████████████████████           | 1.5 MB 34.7 MB/s eta 0:00:01\r\u001b[K     |█████████████████████▏          | 1.5 MB 34.7 MB/s eta 0:00:01\r\u001b[K     |█████████████████████▎          | 1.5 MB 34.7 MB/s eta 0:00:01\r\u001b[K     |█████████████████████▍          | 1.5 MB 34.7 MB/s eta 0:00:01\r\u001b[K     |█████████████████████▋          | 1.5 MB 34.7 MB/s eta 0:00:01\r\u001b[K     |█████████████████████▊          | 1.5 MB 34.7 MB/s eta 0:00:01\r\u001b[K     |█████████████████████▉          | 1.6 MB 34.7 MB/s eta 0:00:01\r\u001b[K     |██████████████████████          | 1.6 MB 34.7 MB/s eta 0:00:01\r\u001b[K     |██████████████████████▏         | 1.6 MB 34.7 MB/s eta 0:00:01\r\u001b[K     |██████████████████████▎         | 1.6 MB 34.7 MB/s eta 0:00:01\r\u001b[K     |██████████████████████▍         | 1.6 MB 34.7 MB/s eta 0:00:01\r\u001b[K     |██████████████████████▋         | 1.6 MB 34.7 MB/s eta 0:00:01\r\u001b[K     |██████████████████████▊         | 1.6 MB 34.7 MB/s eta 0:00:01\r\u001b[K     |██████████████████████▉         | 1.6 MB 34.7 MB/s eta 0:00:01\r\u001b[K     |███████████████████████         | 1.6 MB 34.7 MB/s eta 0:00:01\r\u001b[K     |███████████████████████▏        | 1.6 MB 34.7 MB/s eta 0:00:01\r\u001b[K     |███████████████████████▎        | 1.7 MB 34.7 MB/s eta 0:00:01\r\u001b[K     |███████████████████████▍        | 1.7 MB 34.7 MB/s eta 0:00:01\r\u001b[K     |███████████████████████▋        | 1.7 MB 34.7 MB/s eta 0:00:01\r\u001b[K     |███████████████████████▊        | 1.7 MB 34.7 MB/s eta 0:00:01\r\u001b[K     |███████████████████████▉        | 1.7 MB 34.7 MB/s eta 0:00:01\r\u001b[K     |████████████████████████        | 1.7 MB 34.7 MB/s eta 0:00:01\r\u001b[K     |████████████████████████▏       | 1.7 MB 34.7 MB/s eta 0:00:01\r\u001b[K     |████████████████████████▎       | 1.7 MB 34.7 MB/s eta 0:00:01\r\u001b[K     |████████████████████████▍       | 1.7 MB 34.7 MB/s eta 0:00:01\r\u001b[K     |████████████████████████▋       | 1.8 MB 34.7 MB/s eta 0:00:01\r\u001b[K     |████████████████████████▊       | 1.8 MB 34.7 MB/s eta 0:00:01\r\u001b[K     |████████████████████████▉       | 1.8 MB 34.7 MB/s eta 0:00:01\r\u001b[K     |█████████████████████████       | 1.8 MB 34.7 MB/s eta 0:00:01\r\u001b[K     |█████████████████████████▏      | 1.8 MB 34.7 MB/s eta 0:00:01\r\u001b[K     |█████████████████████████▎      | 1.8 MB 34.7 MB/s eta 0:00:01\r\u001b[K     |█████████████████████████▌      | 1.8 MB 34.7 MB/s eta 0:00:01\r\u001b[K     |█████████████████████████▋      | 1.8 MB 34.7 MB/s eta 0:00:01\r\u001b[K     |█████████████████████████▊      | 1.8 MB 34.7 MB/s eta 0:00:01\r\u001b[K     |█████████████████████████▉      | 1.8 MB 34.7 MB/s eta 0:00:01\r\u001b[K     |██████████████████████████      | 1.9 MB 34.7 MB/s eta 0:00:01\r\u001b[K     |██████████████████████████▏     | 1.9 MB 34.7 MB/s eta 0:00:01\r\u001b[K     |██████████████████████████▎     | 1.9 MB 34.7 MB/s eta 0:00:01\r\u001b[K     |██████████████████████████▌     | 1.9 MB 34.7 MB/s eta 0:00:01\r\u001b[K     |██████████████████████████▋     | 1.9 MB 34.7 MB/s eta 0:00:01\r\u001b[K     |██████████████████████████▊     | 1.9 MB 34.7 MB/s eta 0:00:01\r\u001b[K     |██████████████████████████▉     | 1.9 MB 34.7 MB/s eta 0:00:01\r\u001b[K     |███████████████████████████     | 1.9 MB 34.7 MB/s eta 0:00:01\r\u001b[K     |███████████████████████████▏    | 1.9 MB 34.7 MB/s eta 0:00:01\r\u001b[K     |███████████████████████████▎    | 1.9 MB 34.7 MB/s eta 0:00:01\r\u001b[K     |███████████████████████████▌    | 2.0 MB 34.7 MB/s eta 0:00:01\r\u001b[K     |███████████████████████████▋    | 2.0 MB 34.7 MB/s eta 0:00:01\r\u001b[K     |███████████████████████████▊    | 2.0 MB 34.7 MB/s eta 0:00:01\r\u001b[K     |████████████████████████████    | 2.0 MB 34.7 MB/s eta 0:00:01\r\u001b[K     |████████████████████████████    | 2.0 MB 34.7 MB/s eta 0:00:01\r\u001b[K     |████████████████████████████▏   | 2.0 MB 34.7 MB/s eta 0:00:01\r\u001b[K     |████████████████████████████▎   | 2.0 MB 34.7 MB/s eta 0:00:01\r\u001b[K     |████████████████████████████▌   | 2.0 MB 34.7 MB/s eta 0:00:01\r\u001b[K     |████████████████████████████▋   | 2.0 MB 34.7 MB/s eta 0:00:01\r\u001b[K     |████████████████████████████▊   | 2.0 MB 34.7 MB/s eta 0:00:01\r\u001b[K     |█████████████████████████████   | 2.1 MB 34.7 MB/s eta 0:00:01\r\u001b[K     |█████████████████████████████   | 2.1 MB 34.7 MB/s eta 0:00:01\r\u001b[K     |█████████████████████████████▏  | 2.1 MB 34.7 MB/s eta 0:00:01\r\u001b[K     |█████████████████████████████▎  | 2.1 MB 34.7 MB/s eta 0:00:01\r\u001b[K     |█████████████████████████████▌  | 2.1 MB 34.7 MB/s eta 0:00:01\r\u001b[K     |█████████████████████████████▋  | 2.1 MB 34.7 MB/s eta 0:00:01\r\u001b[K     |█████████████████████████████▊  | 2.1 MB 34.7 MB/s eta 0:00:01\r\u001b[K     |██████████████████████████████  | 2.1 MB 34.7 MB/s eta 0:00:01\r\u001b[K     |██████████████████████████████  | 2.1 MB 34.7 MB/s eta 0:00:01\r\u001b[K     |██████████████████████████████▏ | 2.2 MB 34.7 MB/s eta 0:00:01\r\u001b[K     |██████████████████████████████▍ | 2.2 MB 34.7 MB/s eta 0:00:01\r\u001b[K     |██████████████████████████████▌ | 2.2 MB 34.7 MB/s eta 0:00:01\r\u001b[K     |██████████████████████████████▋ | 2.2 MB 34.7 MB/s eta 0:00:01\r\u001b[K     |██████████████████████████████▊ | 2.2 MB 34.7 MB/s eta 0:00:01\r\u001b[K     |███████████████████████████████ | 2.2 MB 34.7 MB/s eta 0:00:01\r\u001b[K     |███████████████████████████████ | 2.2 MB 34.7 MB/s eta 0:00:01\r\u001b[K     |███████████████████████████████▏| 2.2 MB 34.7 MB/s eta 0:00:01\r\u001b[K     |███████████████████████████████▍| 2.2 MB 34.7 MB/s eta 0:00:01\r\u001b[K     |███████████████████████████████▌| 2.2 MB 34.7 MB/s eta 0:00:01\r\u001b[K     |███████████████████████████████▋| 2.3 MB 34.7 MB/s eta 0:00:01\r\u001b[K     |███████████████████████████████▊| 2.3 MB 34.7 MB/s eta 0:00:01\r\u001b[K     |████████████████████████████████| 2.3 MB 34.7 MB/s eta 0:00:01\r\u001b[K     |████████████████████████████████| 2.3 MB 34.7 MB/s \n",
            "\u001b[?25hRequirement already satisfied: numpy in /usr/local/lib/python3.7/dist-packages (from biopython) (1.19.5)\n",
            "Installing collected packages: biopython\n",
            "Successfully installed biopython-1.79\n"
          ]
        }
      ]
    },
    {
      "cell_type": "code",
      "metadata": {
        "colab": {
          "base_uri": "https://localhost:8080/"
        },
        "id": "tNps1_WjyOml",
        "outputId": "4c492c76-86ec-43db-9033-1bf9c5490e1e"
      },
      "source": [
        "from Bio.Seq import Seq\n",
        "my_seq=Seq('HGTACTTTFFFGGG')\n",
        "from Bio.SeqRecord import SeqRecord\n",
        "se_record=SeqRecord(my_seq)\n",
        "print(se_record)"
      ],
      "execution_count": 4,
      "outputs": [
        {
          "output_type": "stream",
          "name": "stdout",
          "text": [
            "ID: <unknown id>\n",
            "Name: <unknown name>\n",
            "Description: <unknown description>\n",
            "Number of features: 0\n",
            "Seq('HGTACTTTFFFGGG')\n"
          ]
        }
      ]
    },
    {
      "cell_type": "code",
      "metadata": {
        "colab": {
          "base_uri": "https://localhost:8080/"
        },
        "id": "RIrsmaqCyyX7",
        "outputId": "272d02fc-ac08-40ac-c92f-fb46cf6b4ab5"
      },
      "source": [
        "print(se_record.id)\n",
        "se_record.id = \"AC12345\"\n",
        "print(se_record)"
      ],
      "execution_count": 6,
      "outputs": [
        {
          "output_type": "stream",
          "name": "stdout",
          "text": [
            "AC12345\n",
            "ID: AC12345\n",
            "Name: <unknown name>\n",
            "Description: <unknown description>\n",
            "Number of features: 0\n",
            "Seq('HGTACTTTFFFGGG')\n"
          ]
        }
      ]
    },
    {
      "cell_type": "code",
      "metadata": {
        "colab": {
          "base_uri": "https://localhost:8080/"
        },
        "id": "AWHAJFP8zE0U",
        "outputId": "9b57c4c2-b64d-41ae-b632-dc10f9b7ba47"
      },
      "source": [
        "se_record.description = \"I have prepared my first sequence\"\n",
        "print(se_record)"
      ],
      "execution_count": 7,
      "outputs": [
        {
          "output_type": "stream",
          "name": "stdout",
          "text": [
            "ID: AC12345\n",
            "Name: <unknown name>\n",
            "Description: I have prepared my first sequence\n",
            "Number of features: 0\n",
            "Seq('HGTACTTTFFFGGG')\n"
          ]
        }
      ]
    },
    {
      "cell_type": "code",
      "metadata": {
        "colab": {
          "base_uri": "https://localhost:8080/"
        },
        "id": "yFLBe32wzTTM",
        "outputId": "f5b4a295-778d-47de-cc70-d609fbe5e5c4"
      },
      "source": [
        "print(se_record.seq)"
      ],
      "execution_count": 8,
      "outputs": [
        {
          "output_type": "stream",
          "name": "stdout",
          "text": [
            "HGTACTTTFFFGGG\n"
          ]
        }
      ]
    },
    {
      "cell_type": "code",
      "metadata": {
        "colab": {
          "base_uri": "https://localhost:8080/"
        },
        "id": "h_G_tMCczoX8",
        "outputId": "0e71a661-65f6-4ded-a4d4-1fa94d9d369a"
      },
      "source": [
        "from Bio.Seq import Seq\n",
        "simple_seq = Seq(\"GATC\")\n",
        "from Bio.SeqRecord import SeqRecord\n",
        "simple_seq_r = SeqRecord(simple_seq, id=\"AC12345\")\n",
        "print(simple_seq_r)"
      ],
      "execution_count": 10,
      "outputs": [
        {
          "output_type": "stream",
          "name": "stdout",
          "text": [
            "ID: AC12345\n",
            "Name: <unknown name>\n",
            "Description: <unknown description>\n",
            "Number of features: 0\n",
            "Seq('GATC')\n"
          ]
        }
      ]
    },
    {
      "cell_type": "code",
      "metadata": {
        "colab": {
          "base_uri": "https://localhost:8080/"
        },
        "id": "vEV_YLfGzxjC",
        "outputId": "0a785979-b319-42f8-caef-5535275bbaf4"
      },
      "source": [
        "simple_seq_r.annotations[\"evidence\"] = \"None. I just made it up.\"\n",
        "simple_seq_r.annotations[\"family\"] = \"Best. nametoda.\"\n",
        "simple_seq_r.annotations[\"History\"] = \"1945 nametoda.\"\n",
        "print(simple_seq_r.annotations)\n",
        "print(simple_seq_r.annotations[\"evidence\"],simple_seq_r.annotations[\"family\"])"
      ],
      "execution_count": 14,
      "outputs": [
        {
          "output_type": "stream",
          "name": "stdout",
          "text": [
            "{'evidence': 'None. I just made it up.', 'family': 'Best. nametoda.', 'History': '1945 nametoda.'}\n",
            "None. I just made it up. Best. nametoda.\n"
          ]
        }
      ]
    },
    {
      "cell_type": "code",
      "metadata": {
        "colab": {
          "base_uri": "https://localhost:8080/"
        },
        "id": "4X_Bqx_50RbD",
        "outputId": "dcc949bd-d666-4e0c-f0f3-0976deb702e1"
      },
      "source": [
        "simple_seq_r.letter_annotations[\"phred_quality\"] = [40, 40, 38, 30]\n",
        "print(simple_seq_r.letter_annotations)\n",
        "print(simple_seq_r.letter_annotations[\"phred_quality\"])"
      ],
      "execution_count": 15,
      "outputs": [
        {
          "output_type": "stream",
          "name": "stdout",
          "text": [
            "{'phred_quality': [40, 40, 38, 30]}\n",
            "[40, 40, 38, 30]\n"
          ]
        }
      ]
    },
    {
      "cell_type": "code",
      "metadata": {
        "colab": {
          "base_uri": "https://localhost:8080/"
        },
        "id": "ts8-I7E30ZWa",
        "outputId": "a621913d-c0c7-4587-c798-71b16ed4ccff"
      },
      "source": [
        "#SeqRecord objects from FASTA files\n",
        "from Bio import SeqIO\n",
        "from Bio import SeqIO\n",
        "path='/content/drive/MyDrive/DNA_info_nematoda/sequence.fasta'\n",
        "records = SeqIO.read(path, \"fasta\")\n",
        "records"
      ],
      "execution_count": 35,
      "outputs": [
        {
          "output_type": "execute_result",
          "data": {
            "text/plain": [
              "SeqRecord(seq=Seq('TGTAACGAACGGTGCAATAGTGATCCACACCCAACGCCTGAAATCAGATCCAGG...CTG'), id='NC_005816.1', name='NC_005816.1', description='NC_005816.1 Yersinia pestis biovar Microtus str. 91001 plasmid pPCP1, complete sequence', dbxrefs=[])"
            ]
          },
          "metadata": {},
          "execution_count": 35
        }
      ]
    },
    {
      "cell_type": "code",
      "metadata": {
        "colab": {
          "base_uri": "https://localhost:8080/"
        },
        "id": "YdNdgadg3gHg",
        "outputId": "b861d586-6aff-45af-f95e-64c8b20a3fc7"
      },
      "source": [
        "print(records.id)\n",
        "print(records.seq)\n",
        "print(records.name)\n",
        "print(records.description)\n",
        "print(records.dbxrefs)"
      ],
      "execution_count": 34,
      "outputs": [
        {
          "output_type": "stream",
          "name": "stdout",
          "text": [
            "NC_005816.1\n",
            "TGTAACGAACGGTGCAATAGTGATCCACACCCAACGCCTGAAATCAGATCCAGGGGGTAATCTGCTCTCCTGATTCAGGAGAGTTTATGGTCACTTTTGAGACAGTTATGGAAATTAAAATCCTGCACAAGCAGGGAATGAGTAGCCGGGCGATTGCCAGAGAACTGGGGATCTCCCGCAATACCGTTAAACGTTATTTGCAGGCAAAATCTGAGCCGCCAAAATATACGCCGCGACCTGCTGTTGCTTCACTCCTGGATGAATACCGGGATTATATTCGTCAACGCATCGCCGATGCTCATCCTTACAAAATCCCGGCAACGGTAATCGCTCGCGAGATCAGAGACCAGGGATATCGTGGCGGAATGACCATTCTCAGGGCATTCATTCGTTCTCTCTCGGTTCCTCAGGAGCAGGAGCCTGCCGTTCGGTTCGAAACTGAACCCGGACGACAGATGCAGGTTGACTGGGGCACTATGCGTAATGGTCGCTCACCGCTTCACGTGTTCGTTGCTGTTCTCGGATACAGCCGAATGCTGTACATCGAATTCACTGACAATATGCGTTATGACACGCTGGAGACCTGCCATCGTAATGCGTTCCGCTTCTTTGGTGGTGTGCCGCGCGAAGTGTTGTATGACAATATGAAAACTGTGGTTCTGCAACGTGACGCATATCAGACCGGTCAGCACCGGTTCCATCCTTCGCTGTGGCAGTTCGGCAAGGAGATGGGCTTCTCTCCCCGACTGTGTCGCCCCTTCAGGGCACAGACTAAAGGTAAGGTGGAACGGATGGTGCAGTACACCCGTAACAGTTTTTACATCCCACTAATGACTCGCCTGCGCCCGATGGGGATCACTGTCGATGTTGAAACAGCCAACCGCCACGGTCTGCGCTGGCTGCACGATGTCGCTAACCAACGAAAGCATGAAACAATCCAGGCCCGTCCCTGCGATCGCTGGCTCGAAGAGCAGCAGTCCATGCTGGCACTGCCTCCGGAGAAAAAAGAGTATGACGTGCATCTTGATGAAAATCTGGTGAACTTCGACAAACACCCCCTGCATCATCCACTCTCCATCTACGACTCATTCTGCAGAGGAGTGGCGTGATGATGGAACTGCAACATCAACGACTGATGGCGCTCGCCGGGCAGTTGCAACTGGAAAGCCTTATAAGCGCAGCGCCTGCGCTGTCACAACAGGCAGTAGACCAGGAATGGAGTTATATGGACTTCCTGGAGCATCTGCTTCATGAAGAAAAACTGGCACGTCATCAACGTAAACAGGCGATGTATACCCGAATGGCAGCCTTCCCGGCGGTGAAAACGTTCGAAGAGTATGACTTCACATTCGCCACCGGAGCACCGCAGAAGCAACTCCAGTCGTTACGCTCACTCAGCTTCATAGAACGTAATGAAAATATCGTATTACTGGGGCCATCAGGTGTGGGGAAAACCCATCTGGCAATAGCGATGGGCTATGAAGCAGTCCGTGCAGGTATCAAAGTTCGCTTCACAACAGCAGCAGATCTGTTACTTCAGTTATCTACGGCACAACGTCAGGGCCGTTATAAAACGACGCTTCAGCGTGGAGTAATGGCCCCCCGCCTGCTCATCATTGATGAAATAGGCTATCTGCCGTTCAGTCAGGAAGAAGCAAAGCTGTTCTTCCAGGTCATCGCTAAACGTTACGAAAAGAGCGCAATGATCCTGACATCCAATCTGCCGTTCGGGCAGTGGGATCAAACGTTCGCCGGTGATGCAGCACTGACCTCAGCGATGCTGGACCGTATCTTACACCACTCACATGTCGTTCAAATCAAAGGAGAAAGCTATCGACTCAGACAGAAACGAAAGGCCGGGGTTATAGCAGAAGCTAATCCTGAGTAAAACGGTGGATCAATATTGGGCCGTTGGTGGAGATATAAGTGGATCACTTTTCATCCGTCGTTGACACCCTGATGAATTCACGTGTTCACGCCTGAATAACAAGAATGCCGGAGATACGCAGTCATATTTTTTACACAATTCTCTAATCCCGACAAGGTCGTAGGTCGTTATAGGAAAATTCTTAGCACCATTCCGGAACAATCAGAACAGCAGGCCATGAACGACTGACAACATTACGAATATAAAAAACGCACCCGGGCCAGACATTCCCCCTACTGATTAAACCAGCCGGACTTGTCCACGGAACGGTCTTTTTAAACCGACACACAGTCTGAGTACAGATACATGTCACGATGATGCAGGATTAGCGGAAGAGTGTGAGCACGTTTCCGGGAACTGTGGTGAACCATAGCTCAATATTCGAGTGAGGGCATACCGGAAACGCGCTCAGATTCGTTGTAACGCGATTTTCCGTACCGGGCAATTTTTTCAGTTGTTTTTTCGTTTCATGTCGTCAGAAACGTTCTGAGCGCGTTTCCGGCATCTGATGCTACGCAAACCATCCCCATGGTCAGTTGACAGCCGGAAACACGCGGGTGTCGTTTTAGCGTATCGACGGGACGGCGTCGAGAAGCACAAAAAACAGATGTTGTACTCAGTCAGTTGTTTTACAGACAGCACTGCGGCAGATTGAAAAAGTACCGTACTTTCAGGAATGTCCAGAAACCATGTGTCAGACTTCGTTCTCCCCCTTCCGGGTGAATTTTTTTGTCATCCGTTCAGGAATCTCTTTATAACGATTACTCCATTTCAGGATTTTTTATGTGGCGTTTACTACAGGCAGGATATTCAAAGGCAAAAAAATCCCCCGGAACAGGCGGAACCCGGACAGGGGGAGAACGAATCGCTAAATAATTTTCGTAGTTGTATTTCCCATCGTTGCTACTGCAACGGGATGAATTTGCCGCAGTTTATCCTGTAAAACAATCCTGATTTACTCACACTCCACATATCACTGACGGAGCACAACGGAATAGTGAACAAACAACAACAAACTGCGCTGAATATGGCGCGATTTATCAGAAGCCAGAGCCTGATACTGCTTGAAAAACTGGATGCTCTGGATGCCGACGAGCAGGCGGCCATGTGTGAACGACTGCACGAACTCGCGGAAGAACTCCAGAACAGCATCCAGGCTCGCTTTGAAGCCGAAAGTGAAACAGGAACATAACGAAGCTCCCGGAGACGGTCACAGCTTGTCTGTGAACGGATGCCGGGAGCAGACAAGCCCGTCAGGGCGCGTCAGCGGGTTTTAGCGGGTGTCGGGGCGCAGCCATGACCCAGTCACGTAGCGATAGCGGAGTGTATACTGGCTTAGTCATGCGGCATCAGTGCGGATTGTATGAAAAGTGCACCATGTACGGTGTGAAATGCCGCACAGATGCGTAAGGAGAACATGCAGATGCCGATGCTCTTCCGCTTCCTCGCTCACTGACTCGCTGCGCTCGGTCGTTCGGCTGCGGCGAGCGGTGTCTGCTCACTCAAAAGCGGTGATACTGTTATCCACACAATCAGGGGATAACGCCGGAAAGAACATGTGAGCAAAAAACGAAGACCCCAGAAAAGGCCGCGCCGGAGGCGCTTTTTCCATAGGCTCCGCCCCCCTGACGAGCATCACAAAAATCGACGCTCAAGTCAGAGGTGGCGAAACCCGACAGGACTTAAAGATACCAGGCGTTTCCCCCCGGAAGCTCCCTCGTGCGCTCTCCTGTTCCGACCCTGCCGCTTACCGGATACCTCTCCGCCTTTCTCCCTTCGGGAAGCGTGGCGCTTTCTCATAGCTCACGCTGTTGGTATCTCAGTTCGGTGTAGGTCGTTCGCTCCAAGCTGGGCTGTGTGCACGAACCCCCCGTTCAGCCCGACCACTGCGCCTTATCCGGTAACTATCGTCTTGAGTCCAACCCGGTAAGACACGACTTTACGCCACTGGCAGCAGCCATTGGTAACTGAAAAGTGGATTTAGATACGCAGAACTCTTGAAGTTGAAGCCTTATCGCGGCTACACTGAAAGGACAGCATTTGGTATCTGTGCTCCACTTAAGCCAGCTACCACAGGTTAGAAAGCCTGAGAAACTTCTAACCTTCGAAAGAACCCACGCCTGAGAACGTGGGTTTTTTCGTTTACAGGCAGCAGATTACGCGCAGAAAAAAAGGATCTCAAGAAGATCCTTTGATCTTTTCTACTGAATTGCGCTCCCGATCAGTTCAGCAGAAGATTATGATGGGGTTCTATGGGTATTGCTGCGGTAACACCCATGTTACTTGAGGTTGTATGTAGTCTGTGTAGAATTATACACATAAGGCTTAAACTGCTCTTTTTTTTCAATATGCAATTGGAAGTTCATTGACTACATAAATAGATTATTCCAAATAATTTATTTATGTAAGAACAGGATGGGAGGGGGAATGATCTCAAAGTTATTTTGCTTGGCTCTCATATTTTTATCATCAAGTGGCCTTGCAGAAAAAAACACATATACAGCAAAAGACATCTTGCAAAACCTAGAATTAAATACCTTTGGCAATTCATTGTCTCATGGCATCTATGGGAAACAGACAACCTTCAAGCAAACCGAGTTTACAAATATTAAAAGCAACACCAAAAAACACATTGCACTTATCAATAAAGACAACTCATGGATGATATCATTAAAAATACTAGGAATTAAGAGAGATGAGTATACTGTCTGTTTTGAAGATTTCTCTCTAATAAGACCGCCAACATATGTAGCCATACATCCTCTACTTATAAAAAAAGTAAAATCTGGAAACTTTATAGTAGTGAAAGAAATAAAGAAATCTATCCCTGGTTGCACTGTATATTATCATTAATAGCAAGCCCCTCATTATTATGAGGGGCTCATGGTTATTTTAACAATCCACTATCGATATCTTTTTGCACCAGAGCGCCCTCTCGTTTACGTCTGTCAGACATTCCATCAACAATATTATTAAAAGCATTTACAAGGCCATTCCAGTCTTTTGCGATAACTTTATTCCATACTGTGGGAGCAGTTCTGGATAACTTAAACCCTTTTTGATATCCAATAGACACCAGTGCTGTACGGGTTCTCAACGGTAAATCGCTGAACCGAAGACCGATATTAGCGTCATTGAAAAGACCTTCAATCTTATGTGAGAATTTATCAATATAAATATTAGATAAGAGATGAGCTTCATTATCAGAAAGCGTCAGAGGTGCTGTTCTCACTTTATCATAAGCCTCCTTCCCTCGAAGCATATAATACCCATCAAGTCTATCTGCAATATACTGAGGGACACCGTCATTCAATAAATCCTGTTTGCTTCGCTGACCAAGGTCAACCCCGGAACCGAATGTAACACCGGTACTGTTAAAATAATCGCTACTAGGATTAGACGGAAAATGACTTGTCGGATTAAACCCTTCAAAACCATTACTGGAGAAAATATCGTGGTCAACAATATTTACCGAACGACGTAAAAATTCCTTCAGTTGACTAATATTGTCAAAGTTAATGACAGTGTTGTCCGCTAGGACGATGCGATTTCGGTTATTATTCAGAATGTCTTCGTTCTCTTTCTTATCGAGATGTTCAATAGATTCGGCAATCGTTCCCTCAAGAACCATGACACGGTAGACTTTCACACCGTCTTTTTCCTGACCTGTTTCAACAGTTATTTTCTGTTCGTAAGACACGGTCCCTTCAGTTTTTGAAATTTTACTTTCCTGGCGGATCTTATTTGAATATTCACTGTCTTTCTCCATCTCCGTATCAATCGGAAACCCCATAATGTACATCAGTTTAAAATTACTCCGGCCAGGCAGATCCACATAATGTGGTAATGCAATTGTAATCGAATTAGCTTCAAAATTTGGTCTGTAACTGCTTAATGTACTTCCGGAAAAGAGAAAAGCCGGAACACCACCTGAACCATTCACTACCATTGTATCTGACATAAAAATTCCTCTTTAACACATAAAAAAAACAATAAGTTAAAAAAATACTGTACATAAAAGCACTGTTTTTATGTACAGTAATAAAATTACGCCGCTTTATTTTCTCTGTCAATAATATGAAATTTCATTTTTGTGATCTGAATCACTCTTATAAAAATCAGGAAGGGAAGATTCGCAGCAGAAAAACAGCACCGGGTAACATCAGAAAAAAACAGAAAGGAGATAACGTGAGCAAAACAAAATCTGGTCGCCACCGACTGAGCAAAACAGACAAACGCCTGCTGGCTGCACTTGTCGTTGCCGGATACGAAGAACGGACAGCCCGTGACCTCATCCAGAAACACGTTTACACACTGACACAGGCCGACCTGCGCCATCTGGTCAGTGAAATCAGTAACGGTGTGGGACAGTCACAGGCCTACGATGCGATTTACCAGGCGAGACGCATTCGTCTCGCCCGTAAATACCTGAGCGGAAAAAAACCGGAAGGGGTGGAACCCCGGGAAGGGCAGGAACGGGAAGATTTACCATAACTCCCGTTATCAGTACCATCGGCTCAACGCTCGTTGTCGGATCTGAAAAATTCGCTCAAAAGATCATATTTCCCTGGATATTTTCCACCGTTTCTTATGTGAGAAAAGTCACATAATTCTGTCAGACGACGAGAAAACGGATATCGATTATTGTTTAATATTTTTACATTATTAAAAATGAAATTAGATAATCAGATACAAATAATATGTTTTCGTTCATGCAGAGAGATTAAGGGTGTCTAATGAAGAAAAGTTCTATTGTGGCAACCATTATAACTATTCTGTCCGGGAGTGCTAATGCAGCATCATCTCAGTTAATACCAAATATATCCCCTGACAGCTTTACAGTTGCAGCCTCCACCGGGATGCTGAGTGGAAAGTCTCATGAAATGCTTTATGACGCAGAAACAGGAAGAAAGATCAGCCAGTTAGACTGGAAGATCAAAAATGTCGCTATCCTGAAAGGTGATATATCCTGGGATCCATACTCATTTCTGACCCTGAATGCCAGGGGGTGGACGTCTCTGGCTTCCGGGTCAGGTAATATGGATGACTACGACTGGATGAATGAAAATCAATCTGAGTGGACAGATCACTCATCTCATCCTGCTACAAATGTTAATCATGCCAATGAATATGACCTCAATGTGAAAGGCTGGTTACTCCAGGATGAGAATTATAAAGCAGGTATAACAGCAGGATATCAGGAAACACGTTTCAGTTGGACAGCTACAGGTGGTTCATATAGTTATAATAATGGAGCTTATACCGGAAACTTCCCGAAAGGAGTGCGGGTAATAGGTTATAACCAGCGCTTTTCTATGCCATATATTGGACTTGCAGGCCAGTATCGCATTAATGATTTTGAGTTAAATGCATTATTTAAATTCAGCGACTGGGTTCGGGCACATGATAATGATGAGCACTATATGAGAGATCTTACTTTCCGTGAGAAGACATCCGGCTCACGTTATTATGGTACCGTAATTAACGCTGGATATTATGTCACACCTAATGCCAAAGTCTTTGCGGAATTTACATACAGTAAATATGATGAGGGCAAAGGAGGTACTCAGATCATTGATAAGAATAGTGGAGATTCTGTCTCTATTGGCGGAGATGCTGCCGGTATTTCCAATAAAAATTATACTGTGACGGCGGGTCTGCAATATCGCTTCTGAAAAATACAGATCATATCTCTCTTTTCATCCTCCCCTAGCGGGGAGGATGTCTGTGGAAAGGAGGTTGGTGTTTGACCAACCTTCAGATGTGTGAAAAATCACCTTTTTCACCATAATGACGGGGCGCTCATTCTGTTGTTTTGCCTTGACATTCTCCACGTCTTTCAGGGCATGGAGAAGGTCAAATTAGACATGGAACGCTACTCTCCTTCCTGTAGGAAGCTCAACATCCAAGCTTAATTTGCCTCCCATTGCTTCAACGTAACGCTTTAACGTCGCCAGCTTTAAATCATTTCCGCGCTGCTCCAGCTTTGTTACTGCTGGCTGGCTTATACCCATCGCCTCAGCAACTTGTTTTTGTGATAACTGGAGTTCTTCACGCATCATCTGCAAGCCGACCTCAAGAATCATCTCATCTGCCATTTCTTTAATTCGTGTCTGGCTTTCAGGTGAACGACTGGCAATCACCTCATCTAATGTTCTCATTACTTGCTCTCCAGTGTGTTCAGATGTGCTGTAAATTCATCCTCAGCTATACGCACCAGTTTTTCATAAAACCGCTTATCATTACTTTTATCTCCTGCACAAAGAACGATAGCCCGACGAATCGGATCGAACGCATAAAAGGCTCTTATCGGACGGCCAGAAAACTGAACGCGAAGCTCTTTCATATTTTTGTACCGAGAACCTTTCACGGTATCGGCATATGGCCTGGGTAACTCAGGTCCGTAAACCTGTAGCTTTTTCAAATCAGCCAAAACCTTTTCCTGAAGAGCGTCTTCTTGCTCATTTAGCCAGTCGTCAAATCGCTGGCTAAAAAGTACCATCCACATGCTCAACCCTATAACCTGTAGCTTACCCCACTAACAATATAACCTACGAGTTATATTTTCAAGAAAAGCTGGCTATTTAACATAACGGCAATTTGTACGCACCACTGAAATGCGTTCAGCGCGATCACGGCAACAGACAGGCAAAAATAGCAACAAACCTCCCGAAAAACCGCCGCGATCGCGCCTGATAAATTTTAACCTTATGCATATCTATGCAGCCAGGCGAATCACGAACGAATTGCCTGCCTGATGTAACTGAAACGGGTGTTTTTTCCTGATTTGGTGGGCGTGGAAGACGGAACATGAACGGGAAAACAGAATTCATGCCAGATGAGCGCGATCTGGCAATTAAGGCAAAACACAGCAACAAAGACACGCCAGAATCGCGCCCGGATATGTTTTAACGCGATTTTCAGACTCAGACAAATTCAGCAGAATGCTACTCCATTCACCGGGCTGATGGTGAATACATGCGTATCCAGGATGAGTACATTTCTGGCTCTGCCACAGCTCTGTCTGTTGGCAGCTTTCGCCTGTCCGGAAACCTGCTTAAAACGCTCCCGAAAGGCCTCTGAACCAGAAAGCAACAAAACACAGGCCATTAAGTAAATCGCGTTAAAACACGTCTGATGGATTGCTGCAAAAAAAAGTCCCTAATGGAGCAGGGACTGTTAAACCCAGTGAATAGCGTCTAAATTAAAGTAAGAATACGACCAGGTACTCTTCAGAAAAGAGATTAATCCACCGCACAGAATAATCAACAGTAAAAACAAACAACCCTGATTTTTTATTTTTCTTTTTTTCGATAAAAACAAAATTAAAGAAATAATTAATCAGAACATTCCTTAACTTCAGGGCATTGCCTGTGTTCCATTTTGTGATTAGTCTGAAACTTCCGAAGGTGGATAACACCCGGTATTTTTTTGCTCACATAAAGCCCCTCCTTCAGGCAGAGGGGCTTTTTCTTTGCCACCACATAAAAAAGGCCCTCACAGGAGGTGTTCTGTGAGGGCGTATGATAAGGACTGAATCGATGGTTAATATGTCTAGTCCTGACTTTTGCATCTCCGAATATAAAACCCTGTTTAACGGCATGCAAAACCAAAAAATAAAAATGTGACATCGCAATGCCAGATAATATTGACGCATGAGGGAATGCGTACCCCGACCCCTG\n",
            "NC_005816.1\n",
            "NC_005816.1 Yersinia pestis biovar Microtus str. 91001 plasmid pPCP1, complete sequence\n",
            "[]\n"
          ]
        }
      ]
    },
    {
      "cell_type": "code",
      "metadata": {
        "colab": {
          "base_uri": "https://localhost:8080/"
        },
        "id": "lUmg9fXC3-Om",
        "outputId": "f4ed2fae-8b2f-4005-b464-25f84d9f4dc2"
      },
      "source": [
        "from Bio import SeqIO\n",
        "from Bio import SeqIO\n",
        "path='/content/drive/MyDrive/DNA_info_nematoda/sequence.gb'\n",
        "records = SeqIO.read(path, \"genbank\")\n",
        "records"
      ],
      "execution_count": 38,
      "outputs": [
        {
          "output_type": "execute_result",
          "data": {
            "text/plain": [
              "SeqRecord(seq=Seq(None, length=9609), id='NC_005816.1', name='NC_005816', description='Yersinia pestis biovar Microtus str. 91001 plasmid pPCP1, complete sequence', dbxrefs=['BioProject:PRJNA224116', 'BioSample:SAMN02602970', 'Assembly:GCF_000007885.1'])"
            ]
          },
          "metadata": {},
          "execution_count": 38
        }
      ]
    },
    {
      "cell_type": "code",
      "metadata": {
        "colab": {
          "base_uri": "https://localhost:8080/"
        },
        "id": "fo5O42c_4DV-",
        "outputId": "8ae5f68d-1aee-46de-824b-de2384ff0a43"
      },
      "source": [
        "print(records.id)\n",
        "print(records.name)\n",
        "print(records.description)\n",
        "print(records.dbxrefs)\n",
        "print(records.letter_annotations)"
      ],
      "execution_count": 43,
      "outputs": [
        {
          "output_type": "stream",
          "name": "stdout",
          "text": [
            "NC_005816.1\n",
            "NC_005816\n",
            "Yersinia pestis biovar Microtus str. 91001 plasmid pPCP1, complete sequence\n",
            "['BioProject:PRJNA224116', 'BioSample:SAMN02602970', 'Assembly:GCF_000007885.1']\n",
            "{}\n"
          ]
        }
      ]
    },
    {
      "cell_type": "code",
      "metadata": {
        "colab": {
          "base_uri": "https://localhost:8080/"
        },
        "id": "2mlBlAO74kPP",
        "outputId": "cfd0e085-0237-479e-a7ae-56a5f061833f"
      },
      "source": [
        "len(records.annotations)"
      ],
      "execution_count": 44,
      "outputs": [
        {
          "output_type": "execute_result",
          "data": {
            "text/plain": [
              "14"
            ]
          },
          "metadata": {},
          "execution_count": 44
        }
      ]
    },
    {
      "cell_type": "code",
      "metadata": {
        "colab": {
          "base_uri": "https://localhost:8080/",
          "height": 35
        },
        "id": "vhAifT094oiO",
        "outputId": "94a39615-6710-4471-d81c-8db0cca80692"
      },
      "source": [
        "records.annotations[\"source\"]"
      ],
      "execution_count": 45,
      "outputs": [
        {
          "output_type": "execute_result",
          "data": {
            "application/vnd.google.colaboratory.intrinsic+json": {
              "type": "string"
            },
            "text/plain": [
              "'Yersinia pestis biovar Microtus str. 91001'"
            ]
          },
          "metadata": {},
          "execution_count": 45
        }
      ]
    },
    {
      "cell_type": "code",
      "metadata": {
        "colab": {
          "base_uri": "https://localhost:8080/"
        },
        "id": "kTSCBb5H4tG1",
        "outputId": "c85d518a-daa4-4ed4-887c-5cdf20cfbed4"
      },
      "source": [
        "records.dbxrefs"
      ],
      "execution_count": 46,
      "outputs": [
        {
          "output_type": "execute_result",
          "data": {
            "text/plain": [
              "['BioProject:PRJNA224116',\n",
              " 'BioSample:SAMN02602970',\n",
              " 'Assembly:GCF_000007885.1']"
            ]
          },
          "metadata": {},
          "execution_count": 46
        }
      ]
    },
    {
      "cell_type": "code",
      "metadata": {
        "colab": {
          "base_uri": "https://localhost:8080/"
        },
        "id": "tzKLAEqu4yeN",
        "outputId": "ff28526e-6d2a-4ea7-b49c-548610398318"
      },
      "source": [
        "print(records.features)"
      ],
      "execution_count": 48,
      "outputs": [
        {
          "output_type": "stream",
          "name": "stdout",
          "text": [
            "[SeqFeature(FeatureLocation(ExactPosition(0), ExactPosition(9609), strand=1), type='source'), SeqFeature(FeatureLocation(ExactPosition(86), ExactPosition(1109), strand=1), type='gene'), SeqFeature(FeatureLocation(ExactPosition(86), ExactPosition(1109), strand=1), type='CDS'), SeqFeature(FeatureLocation(ExactPosition(1105), ExactPosition(1888), strand=1), type='gene'), SeqFeature(FeatureLocation(ExactPosition(1105), ExactPosition(1888), strand=1), type='CDS'), SeqFeature(FeatureLocation(ExactPosition(2924), ExactPosition(3119), strand=1), type='gene'), SeqFeature(FeatureLocation(ExactPosition(2924), ExactPosition(3119), strand=1), type='CDS'), SeqFeature(FeatureLocation(ExactPosition(4384), ExactPosition(4780), strand=1), type='gene'), SeqFeature(FeatureLocation(ExactPosition(4384), ExactPosition(4780), strand=1), type='CDS'), SeqFeature(FeatureLocation(ExactPosition(4814), ExactPosition(5888), strand=-1), type='gene'), SeqFeature(FeatureLocation(ExactPosition(4814), ExactPosition(5888), strand=-1), type='CDS'), SeqFeature(FeatureLocation(ExactPosition(6115), ExactPosition(6421), strand=1), type='gene'), SeqFeature(FeatureLocation(ExactPosition(6115), ExactPosition(6421), strand=1), type='CDS'), SeqFeature(FeatureLocation(ExactPosition(6663), ExactPosition(7602), strand=1), type='gene'), SeqFeature(FeatureLocation(ExactPosition(6663), ExactPosition(7602), strand=1), type='CDS'), SeqFeature(FeatureLocation(ExactPosition(7788), ExactPosition(8088), strand=-1), type='gene'), SeqFeature(FeatureLocation(ExactPosition(7788), ExactPosition(8088), strand=-1), type='CDS'), SeqFeature(FeatureLocation(ExactPosition(8087), ExactPosition(8429), strand=-1), type='gene'), SeqFeature(FeatureLocation(ExactPosition(8087), ExactPosition(8429), strand=-1), type='CDS')]\n"
          ]
        }
      ]
    },
    {
      "cell_type": "code",
      "metadata": {
        "colab": {
          "base_uri": "https://localhost:8080/"
        },
        "id": "7Y5Fct8c4w69",
        "outputId": "ad744c76-ea7b-45a3-b241-71439a2f5c41"
      },
      "source": [
        "len(records.features)"
      ],
      "execution_count": 47,
      "outputs": [
        {
          "output_type": "execute_result",
          "data": {
            "text/plain": [
              "19"
            ]
          },
          "metadata": {},
          "execution_count": 47
        }
      ]
    },
    {
      "cell_type": "code",
      "metadata": {
        "id": "ZTchZbCL5NRt"
      },
      "source": [
        "from Bio.Seq import Seq\n",
        "from Bio.SeqRecord import SeqRecord\n",
        "record1 = SeqRecord(Seq(\"ACGT\"), id=\"test\")\n",
        "record2 = SeqRecord(Seq(\"ACGT\"), id=\"test\")"
      ],
      "execution_count": 49,
      "outputs": []
    },
    {
      "cell_type": "code",
      "metadata": {
        "colab": {
          "base_uri": "https://localhost:8080/",
          "height": 278
        },
        "id": "_CMNP9Ds5Qel",
        "outputId": "0b1685c0-8cc4-413c-91b5-00765c78047f"
      },
      "source": [
        "record1==record2"
      ],
      "execution_count": 50,
      "outputs": [
        {
          "output_type": "error",
          "ename": "NotImplementedError",
          "evalue": "ignored",
          "traceback": [
            "\u001b[0;31m---------------------------------------------------------------------------\u001b[0m",
            "\u001b[0;31mNotImplementedError\u001b[0m                       Traceback (most recent call last)",
            "\u001b[0;32m<ipython-input-50-300454a097db>\u001b[0m in \u001b[0;36m<module>\u001b[0;34m()\u001b[0m\n\u001b[0;32m----> 1\u001b[0;31m \u001b[0mrecord1\u001b[0m\u001b[0;34m==\u001b[0m\u001b[0mrecord2\u001b[0m\u001b[0;34m\u001b[0m\u001b[0;34m\u001b[0m\u001b[0m\n\u001b[0m",
            "\u001b[0;32m/usr/local/lib/python3.7/dist-packages/Bio/SeqRecord.py\u001b[0m in \u001b[0;36m__eq__\u001b[0;34m(self, other)\u001b[0m\n\u001b[1;32m    792\u001b[0m     \u001b[0;32mdef\u001b[0m \u001b[0m__eq__\u001b[0m\u001b[0;34m(\u001b[0m\u001b[0mself\u001b[0m\u001b[0;34m,\u001b[0m \u001b[0mother\u001b[0m\u001b[0;34m)\u001b[0m\u001b[0;34m:\u001b[0m\u001b[0;34m\u001b[0m\u001b[0;34m\u001b[0m\u001b[0m\n\u001b[1;32m    793\u001b[0m         \u001b[0;34m\"\"\"Define the equal-to operand (not implemented).\"\"\"\u001b[0m\u001b[0;34m\u001b[0m\u001b[0;34m\u001b[0m\u001b[0m\n\u001b[0;32m--> 794\u001b[0;31m         \u001b[0;32mraise\u001b[0m \u001b[0mNotImplementedError\u001b[0m\u001b[0;34m(\u001b[0m\u001b[0m_NO_SEQRECORD_COMPARISON\u001b[0m\u001b[0;34m)\u001b[0m\u001b[0;34m\u001b[0m\u001b[0;34m\u001b[0m\u001b[0m\n\u001b[0m\u001b[1;32m    795\u001b[0m \u001b[0;34m\u001b[0m\u001b[0m\n\u001b[1;32m    796\u001b[0m     \u001b[0;32mdef\u001b[0m \u001b[0m__ne__\u001b[0m\u001b[0;34m(\u001b[0m\u001b[0mself\u001b[0m\u001b[0;34m,\u001b[0m \u001b[0mother\u001b[0m\u001b[0;34m)\u001b[0m\u001b[0;34m:\u001b[0m\u001b[0;34m\u001b[0m\u001b[0;34m\u001b[0m\u001b[0m\n",
            "\u001b[0;31mNotImplementedError\u001b[0m: SeqRecord comparison is deliberately not implemented. Explicitly compare the attributes of interest."
          ]
        }
      ]
    },
    {
      "cell_type": "code",
      "metadata": {
        "colab": {
          "base_uri": "https://localhost:8080/"
        },
        "id": "noOOkCrn5bOF",
        "outputId": "fe36ecb1-7731-4bc7-9ec7-aef5ef369ace"
      },
      "source": [
        "record1.id == record2.id"
      ],
      "execution_count": 51,
      "outputs": [
        {
          "output_type": "execute_result",
          "data": {
            "text/plain": [
              "True"
            ]
          },
          "metadata": {},
          "execution_count": 51
        }
      ]
    },
    {
      "cell_type": "code",
      "metadata": {
        "colab": {
          "base_uri": "https://localhost:8080/"
        },
        "id": "f32XOKq45cs9",
        "outputId": "d51c9e99-a2dc-4349-c646-4b73f038e849"
      },
      "source": [
        "record1.seq == record2.seq"
      ],
      "execution_count": 52,
      "outputs": [
        {
          "output_type": "execute_result",
          "data": {
            "text/plain": [
              "True"
            ]
          },
          "metadata": {},
          "execution_count": 52
        }
      ]
    }
  ]
}